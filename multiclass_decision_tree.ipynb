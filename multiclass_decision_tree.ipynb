{
 "cells": [
  {
   "cell_type": "code",
   "execution_count": 25,
   "metadata": {},
   "outputs": [],
   "source": [
    "import numpy as np\n",
    "from sklearn.tree import DecisionTreeRegressor\n",
    "import matplotlib.pyplot as plt\n",
    "from sklearn import metrics "
   ]
  },
  {
   "cell_type": "code",
   "execution_count": 26,
   "metadata": {},
   "outputs": [],
   "source": [
    "rng = np.random.RandomState(1)"
   ]
  },
  {
   "cell_type": "code",
   "execution_count": 27,
   "metadata": {},
   "outputs": [
    {
     "data": {
      "text/plain": [
       "<mtrand.RandomState at 0x1fdc930dfc0>"
      ]
     },
     "execution_count": 27,
     "metadata": {},
     "output_type": "execute_result"
    }
   ],
   "source": [
    "rng"
   ]
  },
  {
   "cell_type": "code",
   "execution_count": 28,
   "metadata": {},
   "outputs": [
    {
     "name": "stdout",
     "output_type": "stream",
     "text": [
      "<mtrand.RandomState object at 0x000001FDC930DFC0>\n"
     ]
    }
   ],
   "source": [
    "print(rng)"
   ]
  },
  {
   "cell_type": "code",
   "execution_count": 29,
   "metadata": {},
   "outputs": [],
   "source": [
    "X = np.sort(200 * rng.rand(100, 1) - 100, axis=0)\n",
    "y = np.array([np.pi * np.sin(X).ravel(), np.pi * np.cos(X).ravel()]).T\n",
    "y[::5, :] += (0.5 - rng.rand(20, 2))"
   ]
  },
  {
   "cell_type": "code",
   "execution_count": 30,
   "metadata": {},
   "outputs": [
    {
     "name": "stdout",
     "output_type": "stream",
     "text": [
      "[[-99.97712504]\n",
      " [-99.42593459]\n",
      " [-96.34234453]\n",
      " [-96.12660843]\n",
      " [-94.52248136]\n",
      " [-92.18904335]\n",
      " [-90.00930821]\n",
      " [-89.32749098]\n",
      " [-82.99115773]\n",
      " [-81.53228105]\n",
      " [-80.33063323]\n",
      " [-79.53311423]\n",
      " [-79.35479868]\n",
      " [-77.05080541]\n",
      " [-73.99428558]\n",
      " [-72.50505917]\n",
      " [-72.14473055]\n",
      " [-71.92261228]\n",
      " [-70.65428502]\n",
      " [-70.64882184]\n",
      " [-66.92916058]\n",
      " [-66.03391609]\n",
      " [-62.74795772]\n",
      " [-60.37970218]\n",
      " [-59.10955005]\n",
      " [-57.6743768 ]\n",
      " [-52.59460395]\n",
      " [-46.89066813]\n",
      " [-46.01442165]\n",
      " [-43.91120159]\n",
      " [-42.44493228]\n",
      " [-41.27717033]\n",
      " [-39.53348547]\n",
      " [-37.31516437]\n",
      " [-36.8968738 ]\n",
      " [-30.88785459]\n",
      " [-30.44682805]\n",
      " [-30.2203316 ]\n",
      " [-20.64650515]\n",
      " [-20.4646326 ]\n",
      " [-18.37263945]\n",
      " [-17.18880244]\n",
      " [-17.16414609]\n",
      " [-16.59559906]\n",
      " [-16.53903953]\n",
      " [-16.16109712]\n",
      " [-15.778475  ]\n",
      " [-14.38176203]\n",
      " [-10.42129476]\n",
      " [-10.0175733 ]\n",
      " [ -1.68536814]\n",
      " [  2.97782241]\n",
      " [  6.63305699]\n",
      " [  7.17928118]\n",
      " [  7.7633468 ]\n",
      " [ 11.73796569]\n",
      " [ 14.73589733]\n",
      " [ 14.8235211 ]\n",
      " [ 15.67792288]\n",
      " [ 17.3110081 ]\n",
      " [ 17.86110738]\n",
      " [ 23.42898272]\n",
      " [ 24.33914404]\n",
      " [ 24.73444141]\n",
      " [ 32.68829956]\n",
      " [ 32.75892904]\n",
      " [ 34.09350204]\n",
      " [ 35.76710659]\n",
      " [ 37.04390008]\n",
      " [ 37.30018554]\n",
      " [ 38.37542279]\n",
      " [ 38.46452313]\n",
      " [ 38.88003155]\n",
      " [ 39.951672  ]\n",
      " [ 44.06489869]\n",
      " [ 45.19959707]\n",
      " [ 49.63313088]\n",
      " [ 50.02886299]\n",
      " [ 50.16242063]\n",
      " [ 50.18848681]\n",
      " [ 57.85586569]\n",
      " [ 60.14891374]\n",
      " [ 61.47825774]\n",
      " [ 66.92513438]\n",
      " [ 75.27783046]\n",
      " [ 75.62348728]\n",
      " [ 75.62850069]\n",
      " [ 76.66121824]\n",
      " [ 78.9213327 ]\n",
      " [ 79.17724364]\n",
      " [ 80.67590411]\n",
      " [ 80.68038306]\n",
      " [ 81.71910062]\n",
      " [ 85.50171608]\n",
      " [ 88.9189512 ]\n",
      " [ 89.89785174]\n",
      " [ 91.57790603]\n",
      " [ 92.96800943]\n",
      " [ 93.65231514]\n",
      " [ 97.77221778]]\n"
     ]
    }
   ],
   "source": [
    "print(X)"
   ]
  },
  {
   "cell_type": "code",
   "execution_count": 31,
   "metadata": {},
   "outputs": [
    {
     "name": "stdout",
     "output_type": "stream",
     "text": [
      "[[ 1.82569761  2.64490159]\n",
      " [ 2.80694332  1.41091233]\n",
      " [-2.72043225 -1.57125834]\n",
      " [-2.99372396 -0.95248164]\n",
      " [-0.85218806  3.02380223]\n",
      " [ 2.38902829 -1.33007108]\n",
      " [-2.79534903 -1.43374621]\n",
      " [-3.07394347  0.64844117]\n",
      " [-3.03515591  0.81082243]\n",
      " [ 0.46676469  3.10672418]\n",
      " [ 2.65732301  0.56229152]\n",
      " [ 2.63212356 -1.71508891]\n",
      " [ 2.28617935 -2.15475947]\n",
      " [-3.13109169 -0.25665006]\n",
      " [ 3.09796044  0.5217715 ]\n",
      " [ 1.25663563 -3.47458334]\n",
      " [-0.35081253 -3.1219441 ]\n",
      " [-1.02994699 -2.96796455]\n",
      " [-3.14002924  0.09909982]\n",
      " [-3.13944098  0.11625281]\n",
      " [ 2.37492485 -2.31010056]\n",
      " [ 0.18985749 -3.13585053]\n",
      " [ 0.26325594  3.1305432 ]\n",
      " [ 1.99838765 -2.42405676]\n",
      " [-1.72353425 -2.62660124]\n",
      " [-2.50785749  1.71543509]\n",
      " [-2.28076115 -2.16049369]\n",
      " [-0.72606345 -3.05653992]\n",
      " [-2.81317706 -1.39844172]\n",
      " [ 0.22316519  3.13365628]\n",
      " [ 2.70724173 -0.0918097 ]\n",
      " [ 1.32807457 -2.84707259]\n",
      " [-3.03309505 -0.81849789]\n",
      " [ 1.17678862  2.91286336]\n",
      " [ 2.25853354  2.18371945]\n",
      " [ 2.01695054  2.45818236]\n",
      " [ 2.58985281  1.77827637]\n",
      " [ 2.92304411  1.1512678 ]\n",
      " [-3.06159589 -0.70443951]\n",
      " [-3.13851322 -0.13906538]\n",
      " [ 1.18824651  2.36801228]\n",
      " [ 3.12888988 -0.28222774]\n",
      " [ 3.12098085 -0.35928112]\n",
      " [ 2.43656119 -1.98312227]\n",
      " [ 2.3205603  -2.11768843]\n",
      " [ 1.1638182  -2.44881272]\n",
      " [ 0.22133562 -3.13378604]\n",
      " [-3.04808459 -0.76077901]\n",
      " [ 2.63763063 -1.70660747]\n",
      " [ 1.75515004 -2.60558107]\n",
      " [-2.64087596  0.11463798]\n",
      " [ 0.5122026  -3.09955689]\n",
      " [ 1.07686656  2.95126461]\n",
      " [ 2.45325118  1.96243804]\n",
      " [ 3.12869791  0.28434805]\n",
      " [-1.84320146  2.37766879]\n",
      " [ 2.59511834 -1.77058329]\n",
      " [ 2.43021544 -1.9908936 ]\n",
      " [ 0.09436048 -3.14017523]\n",
      " [-3.13995922  0.10129411]\n",
      " [-2.98380352  1.68900173]\n",
      " [-3.11386353 -0.4164833 ]\n",
      " [-2.23958025  2.20315336]\n",
      " [-1.21847239  2.89567426]\n",
      " [ 3.00273818  0.92367084]\n",
      " [ 3.00761386  0.36743148]\n",
      " [ 1.40600124 -2.8094065 ]\n",
      " [-2.93886651 -1.11025583]\n",
      " [-1.91425776  2.49102823]\n",
      " [-1.22028626  2.89491033]\n",
      " [ 2.34221313  2.67090382]\n",
      " [ 2.17660107  2.26539449]\n",
      " [ 2.90583485  1.19403863]\n",
      " [ 2.43932864 -1.97971719]\n",
      " [ 0.25920539  3.13088118]\n",
      " [ 2.86158262  0.61796122]\n",
      " [-1.85681719  2.53413384]\n",
      " [-0.73644472  3.05405527]\n",
      " [-0.32320541  3.12492283]\n",
      " [-0.24165005  3.13228505]\n",
      " [ 2.97204757  1.29991459]\n",
      " [-1.39091189 -2.81690761]\n",
      " [-3.06777921  0.67700452]\n",
      " [-2.55850239 -1.8230935 ]\n",
      " [-0.37731344  3.11885219]\n",
      " [ 0.40108384  3.32924687]\n",
      " [ 0.71705979  3.05866469]\n",
      " [ 2.99394363  0.9517909 ]\n",
      " [-1.16970364 -2.91571566]\n",
      " [-1.86965577 -2.52467655]\n",
      " [-2.9599682   1.79497099]\n",
      " [-2.64529911  1.69469674]\n",
      " [ 0.1183837   3.13936135]\n",
      " [-1.97226951 -2.44535425]\n",
      " [ 2.56335774  1.81626031]\n",
      " [ 2.57393211 -1.36105661]\n",
      " [-1.42759716 -2.79849437]\n",
      " [-3.0094885   0.90143407]\n",
      " [-1.76209839  2.60088709]\n",
      " [-1.17357806 -2.91415836]]\n"
     ]
    }
   ],
   "source": [
    "print(y)"
   ]
  },
  {
   "cell_type": "code",
   "execution_count": 32,
   "metadata": {},
   "outputs": [],
   "source": [
    "reg_1 = DecisionTreeRegressor(max_depth=2)\n",
    "regn= DecisionTreeRegressor()"
   ]
  },
  {
   "cell_type": "code",
   "execution_count": 33,
   "metadata": {},
   "outputs": [
    {
     "data": {
      "text/plain": [
       "DecisionTreeRegressor(criterion='mse', max_depth=2, max_features=None,\n",
       "           max_leaf_nodes=None, min_impurity_decrease=0.0,\n",
       "           min_impurity_split=None, min_samples_leaf=1,\n",
       "           min_samples_split=2, min_weight_fraction_leaf=0.0,\n",
       "           presort=False, random_state=None, splitter='best')"
      ]
     },
     "execution_count": 33,
     "metadata": {},
     "output_type": "execute_result"
    }
   ],
   "source": [
    "reg_1\n"
   ]
  },
  {
   "cell_type": "code",
   "execution_count": 34,
   "metadata": {},
   "outputs": [
    {
     "data": {
      "text/plain": [
       "DecisionTreeRegressor(criterion='mse', max_depth=None, max_features=None,\n",
       "           max_leaf_nodes=None, min_impurity_decrease=0.0,\n",
       "           min_impurity_split=None, min_samples_leaf=1,\n",
       "           min_samples_split=2, min_weight_fraction_leaf=0.0,\n",
       "           presort=False, random_state=None, splitter='best')"
      ]
     },
     "execution_count": 34,
     "metadata": {},
     "output_type": "execute_result"
    }
   ],
   "source": [
    "reg_2 = DecisionTreeRegressor(max_depth=5)\n",
    "reg_3 = DecisionTreeRegressor(max_depth=8)\n",
    "reg_1.fit(X, y)\n",
    "reg_2.fit(X, y)\n",
    "reg_3.fit(X, y)\n",
    "regn.fit(X,y)"
   ]
  },
  {
   "cell_type": "code",
   "execution_count": 35,
   "metadata": {},
   "outputs": [],
   "source": [
    "X_test = np.arange(-100.0, 100.0, 0.01)[:, np.newaxis]"
   ]
  },
  {
   "cell_type": "code",
   "execution_count": 36,
   "metadata": {},
   "outputs": [],
   "source": [
    "y_1=reg_1.predict(X_test)"
   ]
  },
  {
   "cell_type": "code",
   "execution_count": 37,
   "metadata": {},
   "outputs": [],
   "source": [
    "y_2=reg_2.predict(X_test)"
   ]
  },
  {
   "cell_type": "code",
   "execution_count": 38,
   "metadata": {},
   "outputs": [],
   "source": [
    "y_3=reg_3.predict(X_test)"
   ]
  },
  {
   "cell_type": "code",
   "execution_count": 39,
   "metadata": {},
   "outputs": [],
   "source": [
    "yn=regn.predict(X_test)\n",
    "s = 25"
   ]
  },
  {
   "cell_type": "code",
   "execution_count": 40,
   "metadata": {},
   "outputs": [
    {
     "data": {
      "text/plain": [
       "<matplotlib.collections.PathCollection at 0x1fdcaa89978>"
      ]
     },
     "execution_count": 40,
     "metadata": {},
     "output_type": "execute_result"
    },
    {
     "data": {
      "image/png": "[encoded data removed]",
      "text/plain": [
       "<matplotlib.figure.Figure at 0x1fdca9d2a58>"
      ]
     },
     "metadata": {},
     "output_type": "display_data"
    }
   ],
   "source": [
    "plt.scatter(y[:, 0], y[:, 1], c=\"navy\", s=s,\n",
    "            edgecolor=\"black\", label=\"data\")"
   ]
  },
  {
   "cell_type": "code",
   "execution_count": 41,
   "metadata": {},
   "outputs": [
    {
     "data": {
      "text/plain": [
       "<matplotlib.collections.PathCollection at 0x1fdcaaea160>"
      ]
     },
     "execution_count": 41,
     "metadata": {},
     "output_type": "execute_result"
    },
    {
     "data": {
      "image/png": "[encoded data removed]",
      "text/plain": [
       "<matplotlib.figure.Figure at 0x1fdcaaae8d0>"
      ]
     },
     "metadata": {},
     "output_type": "display_data"
    }
   ],
   "source": [
    "plt.scatter(y[:, 0], y[:, 1], c=\"navy\", s=s,\n",
    "            edgecolor=\"black\", label=\"data\")"
   ]
  },
  {
   "cell_type": "code",
   "execution_count": 42,
   "metadata": {},
   "outputs": [
    {
     "data": {
      "text/plain": [
       "<matplotlib.collections.PathCollection at 0x1fdcab4c470>"
      ]
     },
     "execution_count": 42,
     "metadata": {},
     "output_type": "execute_result"
    },
    {
     "data": {
      "image/png": "[encoded data removed]",
      "text/plain": [
       "<matplotlib.figure.Figure at 0x1fdcaa682b0>"
      ]
     },
     "metadata": {},
     "output_type": "display_data"
    }
   ],
   "source": [
    "s=50\n",
    "plt.scatter(y_1[:, 0], y_1[:, 1], c=\"navy\", s=s,\n",
    "            edgecolor=\"black\", label=\"data\")"
   ]
  },
  {
   "cell_type": "code",
   "execution_count": 43,
   "metadata": {},
   "outputs": [
    {
     "data": {
      "text/plain": [
       "<matplotlib.collections.PathCollection at 0x1fdcabb42b0>"
      ]
     },
     "execution_count": 43,
     "metadata": {},
     "output_type": "execute_result"
    },
    {
     "data": {
      "image/png": "[encoded data removed]",
      "text/plain": [
       "<matplotlib.figure.Figure at 0x1fdcab22748>"
      ]
     },
     "metadata": {},
     "output_type": "display_data"
    }
   ],
   "source": [
    "plt.scatter(y_2[:, 0], y_2[:, 1], c=\"navy\", s=s,\n",
    "            edgecolor=\"black\", label=\"data\")"
   ]
  },
  {
   "cell_type": "code",
   "execution_count": 44,
   "metadata": {},
   "outputs": [
    {
     "data": {
      "text/plain": [
       "<matplotlib.collections.PathCollection at 0x1fdcac13320>"
      ]
     },
     "execution_count": 44,
     "metadata": {},
     "output_type": "execute_result"
    },
    {
     "data": {
      "image/png": "[encoded data removed]",
      "text/plain": [
       "<matplotlib.figure.Figure at 0x1fdcab8e2b0>"
      ]
     },
     "metadata": {},
     "output_type": "display_data"
    }
   ],
   "source": [
    "plt.scatter(y_3[:, 0], y_3[:, 1], c=\"navy\", s=s,\n",
    "            edgecolor=\"black\", label=\"data\")"
   ]
  },
  {
   "cell_type": "code",
   "execution_count": 45,
   "metadata": {},
   "outputs": [
    {
     "data": {
      "text/plain": [
       "<matplotlib.collections.PathCollection at 0x1fdcac763c8>"
      ]
     },
     "execution_count": 45,
     "metadata": {},
     "output_type": "execute_result"
    },
    {
     "data": {
      "image/png": "[encoded data removed]",
      "text/plain": [
       "<matplotlib.figure.Figure at 0x1fdcac276a0>"
      ]
     },
     "metadata": {},
     "output_type": "display_data"
    }
   ],
   "source": [
    "plt.scatter(yn[:, 0], yn[:, 1], c=\"navy\", s=s,\n",
    "            edgecolor=\"black\", label=\"data\")"
   ]
  },
  {
   "cell_type": "code",
   "execution_count": 47,
   "metadata": {},
   "outputs": [
    {
     "ename": "AttributeError",
     "evalue": "'DecisionTreeRegressor' object has no attribute 'depth'",
     "output_type": "error",
     "traceback": [
      "\u001b[1;31m---------------------------------------------------------------------------\u001b[0m",
      "\u001b[1;31mAttributeError\u001b[0m                            Traceback (most recent call last)",
      "\u001b[1;32m<ipython-input-47-8361d7739a02>\u001b[0m in \u001b[0;36m<module>\u001b[1;34m()\u001b[0m\n\u001b[1;32m----> 1\u001b[1;33m \u001b[0mregn\u001b[0m\u001b[1;33m.\u001b[0m\u001b[0mdepth\u001b[0m\u001b[1;33m(\u001b[0m\u001b[1;33m)\u001b[0m\u001b[1;33m\u001b[0m\u001b[0m\n\u001b[0m",
      "\u001b[1;31mAttributeError\u001b[0m: 'DecisionTreeRegressor' object has no attribute 'depth'"
     ]
    }
   ],
   "source": [
    "regn.depth()\n"
   ]
  },
  {
   "cell_type": "code",
   "execution_count": null,
   "metadata": {},
   "outputs": [],
   "source": []
  },
  {
   "cell_type": "code",
   "execution_count": null,
   "metadata": {},
   "outputs": [],
   "source": []
  },
  {
   "cell_type": "code",
   "execution_count": null,
   "metadata": {},
   "outputs": [],
   "source": []
  },
  {
   "cell_type": "code",
   "execution_count": null,
   "metadata": {},
   "outputs": [],
   "source": []
  },
  {
   "cell_type": "code",
   "execution_count": null,
   "metadata": {},
   "outputs": [],
   "source": []
  },
  {
   "cell_type": "code",
   "execution_count": null,
   "metadata": {},
   "outputs": [],
   "source": []
  },
  {
   "cell_type": "code",
   "execution_count": null,
   "metadata": {},
   "outputs": [],
   "source": []
  },
  {
   "cell_type": "code",
   "execution_count": null,
   "metadata": {},
   "outputs": [],
   "source": []
  },
  {
   "cell_type": "code",
   "execution_count": null,
   "metadata": {},
   "outputs": [],
   "source": []
  },
  {
   "cell_type": "code",
   "execution_count": null,
   "metadata": {},
   "outputs": [],
   "source": []
  },
  {
   "cell_type": "code",
   "execution_count": null,
   "metadata": {},
   "outputs": [],
   "source": []
  },
  {
   "cell_type": "code",
   "execution_count": null,
   "metadata": {},
   "outputs": [],
   "source": []
  },
  {
   "cell_type": "code",
   "execution_count": null,
   "metadata": {},
   "outputs": [],
   "source": []
  },
  {
   "cell_type": "code",
   "execution_count": null,
   "metadata": {},
   "outputs": [],
   "source": []
  },
  {
   "cell_type": "code",
   "execution_count": null,
   "metadata": {},
   "outputs": [],
   "source": []
  },
  {
   "cell_type": "code",
   "execution_count": null,
   "metadata": {},
   "outputs": [],
   "source": []
  },
  {
   "cell_type": "code",
   "execution_count": null,
   "metadata": {},
   "outputs": [],
   "source": []
  },
  {
   "cell_type": "code",
   "execution_count": null,
   "metadata": {},
   "outputs": [],
   "source": []
  },
  {
   "cell_type": "code",
   "execution_count": null,
   "metadata": {},
   "outputs": [],
   "source": []
  },
  {
   "cell_type": "code",
   "execution_count": null,
   "metadata": {},
   "outputs": [],
   "source": []
  },
  {
   "cell_type": "code",
   "execution_count": null,
   "metadata": {},
   "outputs": [],
   "source": []
  },
  {
   "cell_type": "code",
   "execution_count": null,
   "metadata": {},
   "outputs": [],
   "source": []
  },
  {
   "cell_type": "code",
   "execution_count": null,
   "metadata": {},
   "outputs": [],
   "source": []
  },
  {
   "cell_type": "code",
   "execution_count": null,
   "metadata": {},
   "outputs": [],
   "source": []
  },
  {
   "cell_type": "code",
   "execution_count": null,
   "metadata": {},
   "outputs": [],
   "source": []
  },
  {
   "cell_type": "code",
   "execution_count": null,
   "metadata": {},
   "outputs": [],
   "source": []
  },
  {
   "cell_type": "code",
   "execution_count": null,
   "metadata": {},
   "outputs": [],
   "source": []
  },
  {
   "cell_type": "code",
   "execution_count": null,
   "metadata": {},
   "outputs": [],
   "source": []
  }
 ],
 "metadata": {
  "kernelspec": {
   "display_name": "Python 3",
   "language": "python",
   "name": "python3"
  },
  "language_info": {
   "codemirror_mode": {
    "name": "ipython",
    "version": 3
   },
   "file_extension": ".py",
   "mimetype": "text/x-python",
   "name": "python",
   "nbconvert_exporter": "python",
   "pygments_lexer": "ipython3",
   "version": "3.6.4"
  }
 },
 "nbformat": 4,
 "nbformat_minor": 2
}
